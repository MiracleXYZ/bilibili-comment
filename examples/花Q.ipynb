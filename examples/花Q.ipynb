{
 "cells": [
  {
   "cell_type": "code",
   "execution_count": 1,
   "metadata": {},
   "outputs": [],
   "source": [
    "import requests\n",
    "from bs4 import BeautifulSoup"
   ]
  },
  {
   "cell_type": "code",
   "execution_count": 2,
   "metadata": {},
   "outputs": [],
   "source": [
    "import json"
   ]
  },
  {
   "cell_type": "code",
   "execution_count": 3,
   "metadata": {},
   "outputs": [],
   "source": [
    "import re"
   ]
  },
  {
   "cell_type": "raw",
   "metadata": {},
   "source": [
    "cookie = '''pgv_pvi=1147146240; fts=1492077465; sid=k93vp1bh; rpdid=omwwmoiwqsdoplksxsqpw; articleEntryIcon=1; _qddaz=QD.lghhmb.u51990.j6w78d4l; LIVE_BUVID=0883381a60912ba89e0ecd92b623a25f; LIVE_BUVID__ckMd5=d1ff3b38a0ec86b4; biliMzIsnew=1; biliMzTs=0; UM_distinctid=15f103476f02ff-05cc62c2f55b62-c303767-130980-15f103476f11c1; LIVE_PLAYER_TYPE=2; im_notify_type_15210141=0; _cnt_dyn=0; _cnt_pm=0; _cnt_notify=0; uTZ=-480; finger=edc6ecda; buvid3=F016A014-81F3-4EB7-96FE-54D1E4FFAC1F139231infoc; DedeUserID=15210141; DedeUserID__ckMd5=2f71e1c765270d43; SESSDATA=b6e51bff%2C1521683586%2Caf161493; bili_jct=f5242809d4e5142fa827698522c1a772; im_local_unread_15210141=0; im_seqno_15210141=349; _dfcaptcha=9e8fa3aa39db37ba5f94541d2c87c042; purl_token=bilibili_1519367940; pgv_si=s5956243456'''"
   ]
  },
  {
   "cell_type": "code",
   "execution_count": 4,
   "metadata": {},
   "outputs": [],
   "source": [
    "headers = {\n",
    "    'User-Agent': 'Mozilla/5.0 (Windows NT 10.0; Win64; x64) AppleWebKit/537.36 (KHTML, like Gecko) Chrome/63.0.3239.132 Safari/537.36',\n",
    "    #'Cookie': cookie\n",
    "}"
   ]
  },
  {
   "cell_type": "code",
   "execution_count": 5,
   "metadata": {},
   "outputs": [],
   "source": [
    "urlstr = 'https://space.bilibili.com/ajax/member/getSubmitVideos?mid=1473830&pagesize=30&tid=0&page={}&keyword=&order=pubdate'"
   ]
  },
  {
   "cell_type": "code",
   "execution_count": 6,
   "metadata": {},
   "outputs": [],
   "source": [
    "aids = []\n",
    "for page in range(1, 17):\n",
    "    url = urlstr.format(page)\n",
    "    wb_data = requests.get(url, headers=headers)\n",
    "    vlist = json.loads(wb_data.text)['data']['vlist']\n",
    "    aids.extend([video['aid'] for video in vlist])"
   ]
  },
  {
   "cell_type": "code",
   "execution_count": 7,
   "metadata": {},
   "outputs": [],
   "source": [
    "avurlstr = 'https://www.bilibili.com/video/av{}/'"
   ]
  },
  {
   "cell_type": "code",
   "execution_count": 8,
   "metadata": {},
   "outputs": [],
   "source": [
    "aid = 19373139"
   ]
  },
  {
   "cell_type": "code",
   "execution_count": 9,
   "metadata": {},
   "outputs": [
    {
     "name": "stdout",
     "output_type": "stream",
     "text": [
      "#########################################################################################################################################################################################################################################################################################################################################################################################################################################################################"
     ]
    }
   ],
   "source": [
    "cids = []\n",
    "for aid in aids:\n",
    "    avurl = avurlstr.format(aid)\n",
    "    wb_data = requests.get(avurl, headers=headers)\n",
    "    soup = BeautifulSoup(wb_data.text, 'lxml')\n",
    "    match1 = [cid[5:-1] for cid in re.findall(\"cid='\\d+'\", wb_data.text)]\n",
    "    cids.extend(match1)\n",
    "    if len(match1) == 0:\n",
    "        match2 = [cid[4:-1] for cid in re.findall('cid=\\d+&', wb_data.text)]\n",
    "        cids.extend(match2)\n",
    "    print('#', end='')"
   ]
  },
  {
   "cell_type": "code",
   "execution_count": 10,
   "metadata": {},
   "outputs": [],
   "source": [
    "def crawl_danmaku(cid):\n",
    "    url = 'https://comment.bilibili.com/{}.xml'.format(cid)\n",
    "    headers = {\n",
    "        'User-Agent': 'Mozilla/5.0 (Windows NT 10.0; Win64; x64) AppleWebKit/537.36 (KHTML, like Gecko) Chrome/63.0.3239.132 Safari/537.36'\n",
    "    }\n",
    "\n",
    "    wb_data = requests.get(url, headers=headers)\n",
    "    soup = BeautifulSoup(wb_data.text, 'lxml')\n",
    "    danmaku = soup.select('d')\n",
    "    danmaku_list = [danmaku[i].get_text() for i in range(len(danmaku))]\n",
    "    \n",
    "    return danmaku_list"
   ]
  },
  {
   "cell_type": "code",
   "execution_count": 11,
   "metadata": {},
   "outputs": [],
   "source": [
    "import jieba\n",
    "import jieba.analyse"
   ]
  },
  {
   "cell_type": "code",
   "execution_count": 12,
   "metadata": {},
   "outputs": [
    {
     "name": "stderr",
     "output_type": "stream",
     "text": [
      "Building prefix dict from the default dictionary ...\n",
      "Loading model from cache C:\\Users\\xieyu\\AppData\\Local\\Temp\\jieba.cache\n",
      "Loading model cost 0.970 seconds.\n",
      "Prefix dict has been built succesfully.\n"
     ]
    }
   ],
   "source": [
    "jieba.add_word('花Q')\n",
    "jieba.add_word('嗨多磨')"
   ]
  },
  {
   "cell_type": "code",
   "execution_count": 13,
   "metadata": {},
   "outputs": [],
   "source": [
    "def extract_keywords(danmaku_list, top=500):\n",
    "    seg = [' '.join(jieba.cut(dan)) for dan in danmaku_list]\n",
    "\n",
    "    sentence = ' '.join(seg)\n",
    "\n",
    "    tags = jieba.analyse.extract_tags(sentence, top)\n",
    "    tags_sentence = ' '.join(tags)\n",
    "    return tags_sentence"
   ]
  },
  {
   "cell_type": "code",
   "execution_count": 14,
   "metadata": {},
   "outputs": [
    {
     "name": "stdout",
     "output_type": "stream",
     "text": [
      "######################################################################################################################################################################################################################################################################################################################################################################################################################################################################################################################################################################################################################################################################################################################################################################################################"
     ]
    }
   ],
   "source": [
    "danmaku = []\n",
    "for cid in cids:\n",
    "    danmaku_list = crawl_danmaku(cid)\n",
    "    danmaku.extend(danmaku_list)\n",
    "    print('#', end='')"
   ]
  },
  {
   "cell_type": "code",
   "execution_count": 15,
   "metadata": {},
   "outputs": [
    {
     "data": {
      "text/plain": [
       "475297"
      ]
     },
     "execution_count": 15,
     "metadata": {},
     "output_type": "execute_result"
    }
   ],
   "source": [
    "len(danmaku)"
   ]
  },
  {
   "cell_type": "code",
   "execution_count": 16,
   "metadata": {},
   "outputs": [],
   "source": [
    "tags_sentence = extract_keywords(danmaku)"
   ]
  },
  {
   "cell_type": "code",
   "execution_count": 17,
   "metadata": {},
   "outputs": [],
   "source": [
    "import matplotlib.pyplot as plt\n",
    "%matplotlib inline\n",
    "\n",
    "from wordcloud import WordCloud, ImageColorGenerator"
   ]
  },
  {
   "cell_type": "code",
   "execution_count": 18,
   "metadata": {},
   "outputs": [],
   "source": [
    "def gen_wordcloud(tags_sentence, mask, font, scale=8):\n",
    "    coloring = plt.imread(mask)\n",
    "    image_colors = ImageColorGenerator(coloring)\n",
    "    wordCloud = WordCloud(background_color=\"white\",\n",
    "                          mask=coloring,\n",
    "                          font_path=font,\n",
    "                          random_state=50,\n",
    "                          max_words=3000,\n",
    "                          scale=scale).generate(tags_sentence)\n",
    "    wordCloud.recolor(color_func=image_colors)\n",
    "    return wordCloud"
   ]
  },
  {
   "cell_type": "code",
   "execution_count": 19,
   "metadata": {},
   "outputs": [],
   "source": [
    "def save_wordcloud(wordCloud, output):\n",
    "    wordCloud.to_file(output)"
   ]
  },
  {
   "cell_type": "code",
   "execution_count": 20,
   "metadata": {},
   "outputs": [],
   "source": [
    "mask = 'zz001.jpg'\n",
    "font = 'C://Windows/Fonts/msyh.ttc'"
   ]
  },
  {
   "cell_type": "code",
   "execution_count": 21,
   "metadata": {},
   "outputs": [],
   "source": [
    "wordCloud = gen_wordcloud(tags_sentence, mask, font)\n",
    "save_wordcloud(wordCloud, 'aichan2.png')"
   ]
  },
  {
   "cell_type": "code",
   "execution_count": 22,
   "metadata": {},
   "outputs": [
    {
     "name": "stdout",
     "output_type": "stream",
     "text": [
      "457\n",
      "774\n"
     ]
    }
   ],
   "source": [
    "print(len(aids))\n",
    "print(len(cids))"
   ]
  },
  {
   "cell_type": "code",
   "execution_count": null,
   "metadata": {},
   "outputs": [],
   "source": []
  }
 ],
 "metadata": {
  "kernelspec": {
   "display_name": "Python 3",
   "language": "python",
   "name": "python3"
  },
  "language_info": {
   "codemirror_mode": {
    "name": "ipython",
    "version": 3
   },
   "file_extension": ".py",
   "mimetype": "text/x-python",
   "name": "python",
   "nbconvert_exporter": "python",
   "pygments_lexer": "ipython3",
   "version": "3.6.0"
  },
  "toc": {
   "nav_menu": {},
   "number_sections": true,
   "sideBar": true,
   "skip_h1_title": false,
   "toc_cell": false,
   "toc_position": {},
   "toc_section_display": "block",
   "toc_window_display": false
  }
 },
 "nbformat": 4,
 "nbformat_minor": 2
}
