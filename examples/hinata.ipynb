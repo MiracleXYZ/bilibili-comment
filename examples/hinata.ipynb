{
 "cells": [
  {
   "cell_type": "code",
   "execution_count": 1,
   "metadata": {},
   "outputs": [],
   "source": [
    "import requests\n",
    "from bs4 import BeautifulSoup"
   ]
  },
  {
   "cell_type": "code",
   "execution_count": 2,
   "metadata": {},
   "outputs": [],
   "source": [
    "import json"
   ]
  },
  {
   "cell_type": "code",
   "execution_count": 3,
   "metadata": {},
   "outputs": [],
   "source": [
    "import re"
   ]
  },
  {
   "cell_type": "code",
   "execution_count": 4,
   "metadata": {},
   "outputs": [],
   "source": [
    "headers = {\n",
    "    'User-Agent': 'Mozilla/5.0 (Windows NT 10.0; Win64; x64) AppleWebKit/537.36 (KHTML, like Gecko) Chrome/63.0.3239.132 Safari/537.36',\n",
    "    #'Cookie': cookie\n",
    "}"
   ]
  },
  {
   "cell_type": "code",
   "execution_count": 5,
   "metadata": {},
   "outputs": [],
   "source": [
    "urlstr = 'https://space.bilibili.com/ajax/member/getSubmitVideos?mid={}&pagesize=30&tid=0&page={}&keyword=&order=pubdate'"
   ]
  },
  {
   "cell_type": "code",
   "execution_count": 6,
   "metadata": {},
   "outputs": [],
   "source": [
    "uid = 291296062\n",
    "aids = []\n",
    "for page in range(1, 2):\n",
    "    url = urlstr.format(uid, page)\n",
    "    wb_data = requests.get(url, headers=headers)\n",
    "    vlist = json.loads(wb_data.text)['data']['vlist']\n",
    "    aids.extend([video['aid'] for video in vlist])"
   ]
  },
  {
   "cell_type": "code",
   "execution_count": 7,
   "metadata": {},
   "outputs": [],
   "source": [
    "avurlstr = 'https://www.bilibili.com/video/av{}/'"
   ]
  },
  {
   "cell_type": "code",
   "execution_count": 8,
   "metadata": {},
   "outputs": [
    {
     "name": "stdout",
     "output_type": "stream",
     "text": [
      "#######"
     ]
    }
   ],
   "source": [
    "cids = []\n",
    "for aid in aids:\n",
    "    avurl = avurlstr.format(aid)\n",
    "    wb_data = requests.get(avurl, headers=headers)\n",
    "    soup = BeautifulSoup(wb_data.text, 'lxml')\n",
    "    match1 = [cid[5:-1] for cid in re.findall(\"cid='\\d+'\", wb_data.text)]\n",
    "    cids.extend(match1)\n",
    "    if len(match1) == 0:\n",
    "        match2 = [cid[4:-1] for cid in re.findall('cid=\\d+&', wb_data.text)]\n",
    "        cids.extend(match2)\n",
    "    print('#', end='')"
   ]
  },
  {
   "cell_type": "code",
   "execution_count": 9,
   "metadata": {},
   "outputs": [],
   "source": [
    "def crawl_danmaku(cid):\n",
    "    url = 'https://comment.bilibili.com/{}.xml'.format(cid)\n",
    "    headers = {\n",
    "        'User-Agent': 'Mozilla/5.0 (Windows NT 10.0; Win64; x64) AppleWebKit/537.36 (KHTML, like Gecko) Chrome/63.0.3239.132 Safari/537.36'\n",
    "    }\n",
    "\n",
    "    wb_data = requests.get(url, headers=headers)\n",
    "    soup = BeautifulSoup(wb_data.text, 'lxml')\n",
    "    danmaku = soup.select('d')\n",
    "    danmaku_list = [danmaku[i].get_text() for i in range(len(danmaku))]\n",
    "    \n",
    "    return danmaku_list"
   ]
  },
  {
   "cell_type": "code",
   "execution_count": 10,
   "metadata": {},
   "outputs": [],
   "source": [
    "import jieba\n",
    "import jieba.analyse"
   ]
  },
  {
   "cell_type": "code",
   "execution_count": 11,
   "metadata": {},
   "outputs": [],
   "source": [
    "def extract_keywords(danmaku_list, top=500):\n",
    "    seg = [' '.join(jieba.cut(dan)) for dan in danmaku_list]\n",
    "\n",
    "    sentence = ' '.join(seg)\n",
    "\n",
    "    tags = jieba.analyse.extract_tags(sentence, top)\n",
    "    tags_sentence = ' '.join(tags)\n",
    "    return tags_sentence"
   ]
  },
  {
   "cell_type": "code",
   "execution_count": 12,
   "metadata": {},
   "outputs": [
    {
     "name": "stdout",
     "output_type": "stream",
     "text": [
      "###############"
     ]
    }
   ],
   "source": [
    "danmaku = []\n",
    "for cid in cids:\n",
    "    danmaku_list = crawl_danmaku(cid)\n",
    "    danmaku.extend(danmaku_list)\n",
    "    print('#', end='')"
   ]
  },
  {
   "cell_type": "code",
   "execution_count": 13,
   "metadata": {},
   "outputs": [
    {
     "data": {
      "text/plain": [
       "6389"
      ]
     },
     "execution_count": 13,
     "metadata": {},
     "output_type": "execute_result"
    }
   ],
   "source": [
    "len(danmaku)"
   ]
  },
  {
   "cell_type": "code",
   "execution_count": 14,
   "metadata": {},
   "outputs": [
    {
     "name": "stderr",
     "output_type": "stream",
     "text": [
      "Building prefix dict from the default dictionary ...\n",
      "Loading model from cache C:\\Users\\xieyu\\AppData\\Local\\Temp\\jieba.cache\n",
      "Loading model cost 0.900 seconds.\n",
      "Prefix dict has been built succesfully.\n"
     ]
    }
   ],
   "source": [
    "tags_sentence = extract_keywords(danmaku)"
   ]
  },
  {
   "cell_type": "code",
   "execution_count": 15,
   "metadata": {},
   "outputs": [],
   "source": [
    "import matplotlib.pyplot as plt\n",
    "%matplotlib inline\n",
    "\n",
    "from wordcloud import WordCloud, ImageColorGenerator"
   ]
  },
  {
   "cell_type": "code",
   "execution_count": 16,
   "metadata": {},
   "outputs": [],
   "source": [
    "def gen_wordcloud(tags_sentence, mask, font, scale=8):\n",
    "    coloring = plt.imread(mask)\n",
    "    image_colors = ImageColorGenerator(coloring)\n",
    "    wordCloud = WordCloud(background_color=\"white\",\n",
    "                          mask=coloring,\n",
    "                          font_path=font,\n",
    "                          random_state=60,\n",
    "                          max_words=3000,\n",
    "                          scale=scale).generate(tags_sentence)\n",
    "    wordCloud.recolor(color_func=image_colors)\n",
    "    return wordCloud"
   ]
  },
  {
   "cell_type": "code",
   "execution_count": 17,
   "metadata": {},
   "outputs": [],
   "source": [
    "def save_wordcloud(wordCloud, output):\n",
    "    wordCloud.to_file(output)"
   ]
  },
  {
   "cell_type": "code",
   "execution_count": 18,
   "metadata": {},
   "outputs": [],
   "source": [
    "mask = 'hinata.jpg'\n",
    "font = 'C://Windows/Fonts/msyh.ttc'"
   ]
  },
  {
   "cell_type": "code",
   "execution_count": 19,
   "metadata": {},
   "outputs": [],
   "source": [
    "wordCloud = gen_wordcloud(tags_sentence, mask, font)\n",
    "save_wordcloud(wordCloud, 'hinata_cloud.png')"
   ]
  },
  {
   "cell_type": "code",
   "execution_count": 20,
   "metadata": {},
   "outputs": [
    {
     "name": "stdout",
     "output_type": "stream",
     "text": [
      "7\n",
      "15\n"
     ]
    }
   ],
   "source": [
    "print(len(aids))\n",
    "print(len(cids))"
   ]
  },
  {
   "cell_type": "code",
   "execution_count": null,
   "metadata": {},
   "outputs": [],
   "source": []
  }
 ],
 "metadata": {
  "kernelspec": {
   "display_name": "Python 3",
   "language": "python",
   "name": "python3"
  },
  "language_info": {
   "codemirror_mode": {
    "name": "ipython",
    "version": 3
   },
   "file_extension": ".py",
   "mimetype": "text/x-python",
   "name": "python",
   "nbconvert_exporter": "python",
   "pygments_lexer": "ipython3",
   "version": "3.6.0"
  },
  "toc": {
   "nav_menu": {},
   "number_sections": true,
   "sideBar": true,
   "skip_h1_title": false,
   "toc_cell": false,
   "toc_position": {},
   "toc_section_display": "block",
   "toc_window_display": false
  }
 },
 "nbformat": 4,
 "nbformat_minor": 2
}
