{
 "cells": [
  {
   "cell_type": "markdown",
   "metadata": {},
   "source": [
    "# 爬取弹幕`xml`文件"
   ]
  },
  {
   "cell_type": "code",
   "execution_count": 1,
   "metadata": {
    "collapsed": true
   },
   "outputs": [],
   "source": [
    "import requests"
   ]
  },
  {
   "cell_type": "code",
   "execution_count": 2,
   "metadata": {
    "collapsed": true
   },
   "outputs": [],
   "source": [
    "from bs4 import BeautifulSoup"
   ]
  },
  {
   "cell_type": "code",
   "execution_count": 3,
   "metadata": {
    "collapsed": true
   },
   "outputs": [],
   "source": [
    "def crawl_danmaku(cid):\n",
    "    url = 'https://comment.bilibili.com/{}.xml'.format(cid)\n",
    "    headers = {\n",
    "        'User-Agent': 'Mozilla/5.0 (Windows NT 10.0; Win64; x64) AppleWebKit/537.36 (KHTML, like Gecko) Chrome/63.0.3239.132 Safari/537.36'\n",
    "    }\n",
    "\n",
    "    wb_data = requests.get(url, headers=headers)\n",
    "    soup = BeautifulSoup(wb_data.text, 'lxml')\n",
    "    danmaku = soup.select('d')\n",
    "    danmaku_list = [danmaku[i].get_text() for i in range(len(danmaku))]\n",
    "    \n",
    "    return danmaku_list"
   ]
  },
  {
   "cell_type": "markdown",
   "metadata": {},
   "source": [
    "# 获取关键词"
   ]
  },
  {
   "cell_type": "code",
   "execution_count": 4,
   "metadata": {
    "collapsed": true
   },
   "outputs": [],
   "source": [
    "import jieba\n",
    "import jieba.analyse"
   ]
  },
  {
   "cell_type": "code",
   "execution_count": 5,
   "metadata": {
    "collapsed": true
   },
   "outputs": [],
   "source": [
    "def extract_keywords(danmaku_list, top=500):\n",
    "    seg = [' '.join(jieba.cut(dan)) for dan in danmaku_list]\n",
    "\n",
    "    sentence = ' '.join(seg)\n",
    "\n",
    "    tags = jieba.analyse.extract_tags(sentence, top)\n",
    "    tags_sentence = ' '.join(tags)\n",
    "    return tags_sentence"
   ]
  },
  {
   "cell_type": "code",
   "execution_count": 6,
   "metadata": {
    "collapsed": true
   },
   "outputs": [],
   "source": [
    "def extract_keywords_ww(danmaku_list, top=500):\n",
    "    seg = [' '.join(jieba.cut(dan)) for dan in danmaku_list]\n",
    "\n",
    "    sentence = ' '.join(seg)\n",
    "\n",
    "    tags = dict(jieba.analyse.extract_tags(sentence, top, withWeight=True))\n",
    "    return tags"
   ]
  },
  {
   "cell_type": "markdown",
   "metadata": {},
   "source": [
    "# 画出词云"
   ]
  },
  {
   "cell_type": "code",
   "execution_count": 7,
   "metadata": {
    "collapsed": true
   },
   "outputs": [],
   "source": [
    "import matplotlib.pyplot as plt\n",
    "%matplotlib inline\n",
    "\n",
    "from wordcloud import WordCloud, ImageColorGenerator"
   ]
  },
  {
   "cell_type": "code",
   "execution_count": 8,
   "metadata": {},
   "outputs": [],
   "source": [
    "def gen_wordcloud(tags_sentence, mask, font, scale=4):\n",
    "    coloring = plt.imread(mask)\n",
    "    image_colors = ImageColorGenerator(coloring)\n",
    "    wordCloud = WordCloud(background_color=\"white\",\n",
    "                          mask=coloring,\n",
    "                          font_path=font,\n",
    "                          random_state=50,\n",
    "                          max_words=3000,\n",
    "                          scale=scale).generate(tags_sentence)\n",
    "    wordCloud.recolor(color_func=image_colors)\n",
    "    return wordCloud"
   ]
  },
  {
   "cell_type": "code",
   "execution_count": 9,
   "metadata": {
    "collapsed": true
   },
   "outputs": [],
   "source": [
    "def gen_wordcloud_ww(tags, mask, font, scale=4):\n",
    "    coloring = plt.imread(mask)\n",
    "    image_colors = ImageColorGenerator(coloring)\n",
    "    wordCloud = WordCloud(background_color=\"white\",\n",
    "                          mask=coloring,\n",
    "                          font_path=font,\n",
    "                          random_state=50,\n",
    "                          max_words=3000,\n",
    "                          scale=scale).generate_from_frequencies(tags)\n",
    "    wordCloud.recolor(color_func=image_colors)\n",
    "    return wordCloud"
   ]
  },
  {
   "cell_type": "code",
   "execution_count": 10,
   "metadata": {
    "collapsed": true
   },
   "outputs": [],
   "source": [
    "def save_wordcloud(wordCloud, output):\n",
    "    wordCloud.to_file(output)"
   ]
  },
  {
   "cell_type": "code",
   "execution_count": 11,
   "metadata": {
    "collapsed": true
   },
   "outputs": [],
   "source": [
    "def draw_wordcloud(wordCloud, dpi=200):\n",
    "    plt.figure(dpi=dpi)\n",
    "    plt.imshow(wordCloud)\n",
    "    plt.axis(\"off\")\n",
    "    plt.show()"
   ]
  },
  {
   "cell_type": "markdown",
   "metadata": {},
   "source": [
    "# 爬取弹幕实践：bilibili拜年祭"
   ]
  },
  {
   "cell_type": "code",
   "execution_count": 12,
   "metadata": {
    "collapsed": true
   },
   "outputs": [],
   "source": [
    "def crawl_and_plot(cid, output, mask, font='C://Windows/Fonts/msyh.ttc',\n",
    "                   with_weight=True, scale=4, top_words=1000, preview=False):\n",
    "    print('Crawling danmaku list...', end=' ')\n",
    "    danmaku_list = crawl_danmaku(cid)\n",
    "    print('Done')\n",
    "    \n",
    "    print('Extracting top {} words...'.format(top_words), end=' ')\n",
    "    if with_weight:\n",
    "        tags = extract_keywords_ww(danmaku_list, top_words)\n",
    "    else:\n",
    "        tags_sentence = extract_keywords(danmaku_list, top_words)\n",
    "    print('Done')\n",
    "    \n",
    "    print('Generating wordcloud...', end=' ')\n",
    "    if with_weight:\n",
    "        wordCloud = gen_wordcloud_ww(tags, mask, font, scale)\n",
    "    else:\n",
    "        wordCloud = gen_wordcloud(tags_sentence, mask, font, scale)\n",
    "    print('Done')\n",
    "    \n",
    "    print('Drawing and saving wordcloud...', end=' ')\n",
    "    if preview:\n",
    "        draw_wordcloud(wordCloud)\n",
    "    save_wordcloud(wordCloud, output)\n",
    "    print('Done')"
   ]
  },
  {
   "cell_type": "markdown",
   "metadata": {},
   "source": [
    "2018年拜年祭弹幕`cid`：\n",
    "\n",
    "- 1P: `32005501`\n",
    "- 2P: `32005515`\n",
    "- 3P: `32005584`\n",
    "- 4P: `32005717`\n",
    "- 5P: `32005720`"
   ]
  },
  {
   "cell_type": "code",
   "execution_count": 13,
   "metadata": {
    "collapsed": true
   },
   "outputs": [],
   "source": [
    "from PIL import Image"
   ]
  },
  {
   "cell_type": "code",
   "execution_count": 29,
   "metadata": {},
   "outputs": [],
   "source": [
    "with Image.open('干杯2.jpg') as im:\n",
    "    img_size = im.size\n",
    "\n",
    "    w = img_size[0] / 2\n",
    "    h = img_size[1] / 2\n",
    "\n",
    "    x, y = 0, 0\n",
    "    region = im.crop((x, y, x + w, y + h))\n",
    "    region.save(\"ganbei_1.jpg\")\n",
    "\n",
    "    x, y = w, 0\n",
    "    region = im.crop((x, y, x + w, y + h))\n",
    "    region.save(\"ganbei_2.jpg\")\n",
    "\n",
    "    x, y = 0, h\n",
    "    region = im.crop((x, y, x + w, y + h))\n",
    "    region.save(\"ganbei_3.jpg\")\n",
    "\n",
    "    x, y = w, h\n",
    "    region = im.crop((x, y, x + w, y + h))\n",
    "    region.save(\"ganbei_4.jpg\")"
   ]
  },
  {
   "cell_type": "code",
   "execution_count": 32,
   "metadata": {},
   "outputs": [
    {
     "name": "stdout",
     "output_type": "stream",
     "text": [
      "P1(汪, cid=32005501)\n",
      "Crawling danmaku list... Done\n",
      "Extracting top 500 words... Done\n",
      "Generating wordcloud... Done\n",
      "Drawing and saving wordcloud... Done\n",
      "P2(王, cid=32005515)\n",
      "Crawling danmaku list... Done\n",
      "Extracting top 500 words... Done\n",
      "Generating wordcloud... Done\n",
      "Drawing and saving wordcloud... Done\n",
      "P3(财, cid=32005584)\n",
      "Crawling danmaku list... Done\n",
      "Extracting top 500 words... Done\n",
      "Generating wordcloud... Done\n",
      "Drawing and saving wordcloud... Done\n",
      "P4(往, cid=32005717)\n",
      "Crawling danmaku list... Done\n",
      "Extracting top 500 words... Done\n",
      "Generating wordcloud... Done\n",
      "Drawing and saving wordcloud... Done\n",
      "P5(旺, cid=32005720)\n",
      "Crawling danmaku list... Done\n",
      "Extracting top 500 words... Done\n",
      "Generating wordcloud... Done\n",
      "Drawing and saving wordcloud... Done\n"
     ]
    }
   ],
   "source": [
    "pnums = range(1, 6)\n",
    "pnames = ['汪', '王', '财', '往', '旺']\n",
    "cids = ['32005501', '32005515', '32005584', '32005717', '32005720']\n",
    "masks = ['ganbei_1.jpg', 'ganbei_2.jpg', 'bilibili22.jpg' ,'ganbei_3.jpg', 'ganbei_4.jpg']\n",
    "\n",
    "for pnum, pname, cid, mask in zip(pnums, pnames, cids, masks):\n",
    "    pstring = 'P{}({}, cid={})'.format(pnum, pname, cid)\n",
    "    print(pstring)\n",
    "    crawl_and_plot(cid, output='{}.png'.format(pstring), with_weight=False, scale=8, mask=mask, top_words=500)"
   ]
  },
  {
   "cell_type": "code",
   "execution_count": 33,
   "metadata": {},
   "outputs": [
    {
     "name": "stdout",
     "output_type": "stream",
     "text": [
      "P1(汪, cid=32005501)\n",
      "Crawling danmaku list... Done\n",
      "Extracting top 500 words... Done\n",
      "Generating wordcloud... Done\n",
      "Drawing and saving wordcloud... Done\n",
      "P2(王, cid=32005515)\n",
      "Crawling danmaku list... Done\n",
      "Extracting top 500 words... Done\n",
      "Generating wordcloud... Done\n",
      "Drawing and saving wordcloud... Done\n",
      "P3(财, cid=32005584)\n",
      "Crawling danmaku list... Done\n",
      "Extracting top 500 words... Done\n",
      "Generating wordcloud... Done\n",
      "Drawing and saving wordcloud... Done\n",
      "P4(往, cid=32005717)\n",
      "Crawling danmaku list... Done\n",
      "Extracting top 500 words... Done\n",
      "Generating wordcloud... Done\n",
      "Drawing and saving wordcloud... Done\n",
      "P5(旺, cid=32005720)\n",
      "Crawling danmaku list... Done\n",
      "Extracting top 500 words... Done\n",
      "Generating wordcloud... Done\n",
      "Drawing and saving wordcloud... Done\n"
     ]
    }
   ],
   "source": [
    "pnums = range(1, 6)\n",
    "pnames = ['汪', '王', '财', '往', '旺']\n",
    "cids = ['32005501', '32005515', '32005584', '32005717', '32005720']\n",
    "masks = ['ganbei_1.jpg', 'ganbei_2.jpg', 'bilibili22.jpg' ,'ganbei_3.jpg', 'ganbei_4.jpg']\n",
    "\n",
    "for pnum, pname, cid, mask in zip(pnums, pnames, cids, masks):\n",
    "    pstring = 'P{}({}, cid={})'.format(pnum, pname, cid)\n",
    "    print(pstring)\n",
    "    crawl_and_plot(cid, output='WW_{}.png'.format(pstring), with_weight=True, scale=8, mask=mask, top_words=500)"
   ]
  },
  {
   "cell_type": "code",
   "execution_count": null,
   "metadata": {
    "collapsed": true
   },
   "outputs": [],
   "source": []
  }
 ],
 "metadata": {
  "kernelspec": {
   "display_name": "Python 3",
   "language": "python",
   "name": "python3"
  },
  "language_info": {
   "codemirror_mode": {
    "name": "ipython",
    "version": 3
   },
   "file_extension": ".py",
   "mimetype": "text/x-python",
   "name": "python",
   "nbconvert_exporter": "python",
   "pygments_lexer": "ipython3",
   "version": "3.6.0"
  },
  "toc": {
   "nav_menu": {},
   "number_sections": true,
   "sideBar": true,
   "skip_h1_title": false,
   "toc_cell": false,
   "toc_position": {},
   "toc_section_display": "block",
   "toc_window_display": false
  }
 },
 "nbformat": 4,
 "nbformat_minor": 2
}
